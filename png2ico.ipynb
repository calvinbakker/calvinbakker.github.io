{
 "cells": [
  {
   "cell_type": "code",
   "execution_count": 2,
   "metadata": {},
   "outputs": [],
   "source": [
    "from PIL import Image\n",
    "\n",
    "input_path = \"\"\n",
    "output_path = \"\"\n",
    "\n",
    "# Open the PNG file\n",
    "img = Image.open(input_path)\n",
    "\n",
    "# sizes = [(16, 16), (32, 32), (48, 48), (64, 64), (128, 128), (256, 256)]\n",
    "sizes = [(128, 128), (256, 256)]\n",
    "\n",
    "\n",
    "# Save as ICO with multiple sizes\n",
    "img.save(output_path, format='ICO', sizes=sizes)"
   ]
  }
 ],
 "metadata": {
  "kernelspec": {
   "display_name": "Python 3",
   "language": "python",
   "name": "python3"
  },
  "language_info": {
   "codemirror_mode": {
    "name": "ipython",
    "version": 3
   },
   "file_extension": ".py",
   "mimetype": "text/x-python",
   "name": "python",
   "nbconvert_exporter": "python",
   "pygments_lexer": "ipython3",
   "version": "3.12.4"
  }
 },
 "nbformat": 4,
 "nbformat_minor": 2
}
